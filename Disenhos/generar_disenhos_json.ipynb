{
 "cells": [
  {
   "cell_type": "code",
   "execution_count": 8,
   "id": "c872fbf3",
   "metadata": {},
   "outputs": [],
   "source": [
    "import json\n",
    "import pandas as pd"
   ]
  },
  {
   "cell_type": "code",
   "execution_count": 9,
   "id": "58aec2b2",
   "metadata": {},
   "outputs": [],
   "source": [
    "tipo_veh_dict = {\n",
    "    1 : \"Vehículo Liviano\",\n",
    "    2 : \"Camión Simple\",\n",
    "    3 : \"Camión Pesado\"\n",
    "}"
   ]
  },
  {
   "cell_type": "code",
   "execution_count": 10,
   "id": "f6b02da4",
   "metadata": {},
   "outputs": [],
   "source": [
    "alt1_dict = {\n",
    "    1 : \"Una Pista\",\n",
    "    2 : \"Una Pista\",\n",
    "    3 : \"Una Pista\"\n",
    "}"
   ]
  },
  {
   "cell_type": "code",
   "execution_count": 11,
   "id": "e1fd323e",
   "metadata": {},
   "outputs": [],
   "source": [
    "alt2_dict = {\n",
    "    1 : \"Dos Pistas\",\n",
    "    2 : \"Dos Pistas\",\n",
    "    3 : \"Dos Pistas\"\n",
    "}"
   ]
  },
  {
   "cell_type": "code",
   "execution_count": 12,
   "id": "6ba822d5",
   "metadata": {},
   "outputs": [
    {
     "name": "stdout",
     "output_type": "stream",
     "text": [
      "         Diseño  c_A1  tv_A1  c_A2  tv_A2  Bloque\n",
      "Tarjeta                                          \n",
      "1             1     0     60  1800     52       1\n",
      "2             1     0     60  1800     45       1\n",
      "3             1     0     60  1800     40       1\n",
      "4             1     0     60  2600     52       1\n",
      "5             1     0     60  2600     45       0\n",
      "6             1     0     60  2600     40       2\n",
      "7             1     0     60  4000     52       2\n",
      "8             1     0     60  4000     45       2\n",
      "9             1     0     60  4000     40       2\n"
     ]
    }
   ],
   "source": [
    "dis1_path = \"DIS1.csv\"\n",
    "dis1_df = pd.read_csv(dis1_path, sep=\";\", index_col= \"Tarjeta\")\n",
    "\n",
    "print(dis1_df)"
   ]
  },
  {
   "cell_type": "code",
   "execution_count": 13,
   "id": "cad6d394",
   "metadata": {},
   "outputs": [
    {
     "name": "stdout",
     "output_type": "stream",
     "text": [
      "         Diseño  c_A1  tv_A1  c_A2  tv_A2  Bloque\n",
      "Tarjeta                                          \n",
      "1             1     0     70  2200     60       1\n",
      "2             1     0     70  2200     55       1\n",
      "3             1     0     70  2200     50       1\n",
      "4             1     0     70  3300     60       1\n",
      "5             1     0     70  3300     55       0\n",
      "6             1     0     70  3300     50       2\n",
      "7             1     0     70  4600     60       2\n",
      "8             1     0     70  4600     55       2\n",
      "9             1     0     70  4600     50       2\n"
     ]
    }
   ],
   "source": [
    "dis2_path = \"DIS2.csv\"\n",
    "dis2_df = pd.read_csv(dis2_path, sep=\";\", index_col= \"Tarjeta\")\n",
    "\n",
    "print(dis2_df)"
   ]
  },
  {
   "cell_type": "code",
   "execution_count": 14,
   "id": "a1046726",
   "metadata": {},
   "outputs": [
    {
     "name": "stdout",
     "output_type": "stream",
     "text": [
      "         Diseño  c_A1  tv_A1  c_A2  tv_A2  Bloque\n",
      "Tarjeta                                          \n",
      "1             1     0     75  6000     60       1\n",
      "2             1     0     75  6000     55       1\n",
      "3             1     0     75  6000     50       1\n",
      "4             1     0     75  7000     60       1\n",
      "5             1     0     75  7000     55       0\n",
      "6             1     0     75  7000     50       2\n",
      "7             1     0     75  9500     60       2\n",
      "8             1     0     75  9500     55       2\n",
      "9             1     0     75  9500     50       2\n"
     ]
    }
   ],
   "source": [
    "dis3_path = \"DIS3.csv\"\n",
    "dis3_df = pd.read_csv(dis3_path, sep=\";\", index_col= \"Tarjeta\")\n",
    "\n",
    "print(dis3_df)"
   ]
  },
  {
   "cell_type": "code",
   "execution_count": 15,
   "id": "7f86bcda",
   "metadata": {},
   "outputs": [],
   "source": [
    "def generar_json(nro_disenho, dis_df):\n",
    "    \"\"\"\n",
    "    Genera un archivo JSON con los datos del diseño especificado.\n",
    "    \n",
    "    Args:\n",
    "        nro_disenho (int): Número del diseño a generar.\n",
    "    \"\"\"\n",
    "\n",
    "\n",
    "    data = {\n",
    "        \"nro_disenho\": nro_disenho,\n",
    "        \"tipo_veh\": tipo_veh_dict[nro_disenho],\n",
    "        \"alt1\": alt1_dict[nro_disenho],\n",
    "        \"alt2\": alt2_dict[nro_disenho],\n",
    "    }\n",
    "\n",
    "    for i in range(1,10):\n",
    "        tarjeta_dict = {}\n",
    "        tarjeta_dict[\"Bloque\"] = int(dis_df.loc[i, \"Bloque\"])\n",
    "\n",
    "        for j in [1,2]:\n",
    "            c = dis_df.loc[i, f\"c_A{j}\"]\n",
    "            tv = dis_df.loc[i, f\"tv_A{j}\"]\n",
    "            tarjeta_dict[f\"A{j}\"] = [int(c), int(tv)]\n",
    "        \n",
    "        data[f\"T{i}\"] = tarjeta_dict\n",
    "    \n",
    "    with open(f\"disenho_{nro_disenho}.json\", 'w') as json_file:\n",
    "        json.dump(data, json_file, indent=4, ensure_ascii=False)\n",
    "\n"
   ]
  },
  {
   "cell_type": "code",
   "execution_count": 16,
   "id": "c6c5622b",
   "metadata": {},
   "outputs": [],
   "source": [
    "generar_json(1, dis1_df)\n",
    "generar_json(2, dis2_df)\n",
    "generar_json(3, dis3_df)"
   ]
  }
 ],
 "metadata": {
  "kernelspec": {
   "display_name": "faqs-env",
   "language": "python",
   "name": "python3"
  },
  "language_info": {
   "codemirror_mode": {
    "name": "ipython",
    "version": 3
   },
   "file_extension": ".py",
   "mimetype": "text/x-python",
   "name": "python",
   "nbconvert_exporter": "python",
   "pygments_lexer": "ipython3",
   "version": "3.12.6"
  }
 },
 "nbformat": 4,
 "nbformat_minor": 5
}
