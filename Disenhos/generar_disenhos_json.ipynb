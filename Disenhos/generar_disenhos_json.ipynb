{
 "cells": [
  {
   "cell_type": "code",
   "execution_count": 1,
   "id": "c872fbf3",
   "metadata": {},
   "outputs": [],
   "source": [
    "import json\n",
    "import pandas as pd"
   ]
  },
  {
   "cell_type": "code",
   "execution_count": 2,
   "id": "58aec2b2",
   "metadata": {},
   "outputs": [],
   "source": [
    "tipo_veh_dict = {\n",
    "    1 : \"Vehículo Liviano\",\n",
    "    2 : \"Camión Simple\",\n",
    "    3 : \"Camión Pesado\"\n",
    "}"
   ]
  },
  {
   "cell_type": "code",
   "execution_count": 3,
   "id": "f6b02da4",
   "metadata": {},
   "outputs": [],
   "source": [
    "alt1_dict = {\n",
    "    1 : \"Escenario A\",\n",
    "    2 : \"Escenario A\",\n",
    "    3 : \"Escenario A\"\n",
    "}"
   ]
  },
  {
   "cell_type": "code",
   "execution_count": 4,
   "id": "e1fd323e",
   "metadata": {},
   "outputs": [],
   "source": [
    "alt2_dict = {\n",
    "    1 : \"Escenario B\",\n",
    "    2 : \"Escenario B\",\n",
    "    3 : \"Escenario B\"\n",
    "}"
   ]
  },
  {
   "cell_type": "code",
   "execution_count": 5,
   "id": "6ba822d5",
   "metadata": {},
   "outputs": [
    {
     "name": "stdout",
     "output_type": "stream",
     "text": [
      "         Diseño  c_A1  tv_A1  c_A2  tv_A2  Bloque\n",
      "Tarjeta                                          \n",
      "1             1  1000     60  2000     50       2\n",
      "2             1  1000     60  2000     45       1\n",
      "3             1  1000     60  2000     40       2\n",
      "4             1  1000     60  2500     50       2\n",
      "5             1  1000     60  2500     45       1\n",
      "6             1  1000     60  2500     40       0\n",
      "7             1  1000     60  3000     50       1\n",
      "8             1  1000     60  3000     45       1\n",
      "9             1  1000     60  3000     40       2\n"
     ]
    }
   ],
   "source": [
    "dis1_path = \"DIS1.csv\"\n",
    "dis1_df = pd.read_csv(dis1_path, sep=\";\", index_col= \"Tarjeta\")\n",
    "\n",
    "print(dis1_df)"
   ]
  },
  {
   "cell_type": "code",
   "execution_count": 6,
   "id": "cad6d394",
   "metadata": {},
   "outputs": [
    {
     "name": "stdout",
     "output_type": "stream",
     "text": [
      "         Diseño  c_A1  tv_A1  c_A2  tv_A2  Bloque\n",
      "Tarjeta                                          \n",
      "1             1  1500     70  3700     60       2\n",
      "2             1  1500     70  3700     55       1\n",
      "3             1  1500     70  3700     50       2\n",
      "4             1  1500     70  4800     60       2\n",
      "5             1  1500     70  4800     55       1\n",
      "6             1  1500     70  4800     50       0\n",
      "7             1  1500     70  6100     60       1\n",
      "8             1  1500     70  6100     55       1\n",
      "9             1  1500     70  6100     50       2\n"
     ]
    }
   ],
   "source": [
    "dis2_path = \"DIS2.csv\"\n",
    "dis2_df = pd.read_csv(dis2_path, sep=\";\", index_col= \"Tarjeta\")\n",
    "\n",
    "print(dis2_df)"
   ]
  },
  {
   "cell_type": "code",
   "execution_count": 7,
   "id": "a1046726",
   "metadata": {},
   "outputs": [
    {
     "name": "stdout",
     "output_type": "stream",
     "text": [
      "         Diseño  c_A1  tv_A1   c_A2  tv_A2  Bloque\n",
      "Tarjeta                                           \n",
      "1             1  2000     75   8000     60       2\n",
      "2             1  2000     75   8000     55       1\n",
      "3             1  2000     75   8000     50       2\n",
      "4             1  2000     75   9000     60       2\n",
      "5             1  2000     75   9000     55       1\n",
      "6             1  2000     75   9000     50       0\n",
      "7             1  2000     75  11500     60       1\n",
      "8             1  2000     75  11500     55       1\n",
      "9             1  2000     75  11500     50       2\n"
     ]
    }
   ],
   "source": [
    "dis3_path = \"DIS3.csv\"\n",
    "dis3_df = pd.read_csv(dis3_path, sep=\";\", index_col= \"Tarjeta\")\n",
    "\n",
    "print(dis3_df)"
   ]
  },
  {
   "cell_type": "code",
   "execution_count": 8,
   "id": "7f86bcda",
   "metadata": {},
   "outputs": [],
   "source": [
    "def generar_json(nro_disenho, dis_df):\n",
    "    \"\"\"\n",
    "    Genera un archivo JSON con los datos del diseño especificado.\n",
    "    \n",
    "    Args:\n",
    "        nro_disenho (int): Número del diseño a generar.\n",
    "    \"\"\"\n",
    "\n",
    "\n",
    "    data = {\n",
    "        \"nro_disenho\": nro_disenho,\n",
    "        \"tipo_veh\": tipo_veh_dict[nro_disenho],\n",
    "        \"alt1\": alt1_dict[nro_disenho],\n",
    "        \"alt2\": alt2_dict[nro_disenho],\n",
    "    }\n",
    "\n",
    "    for i in range(1,10):\n",
    "        tarjeta_dict = {}\n",
    "        tarjeta_dict[\"Bloque\"] = int(dis_df.loc[i, \"Bloque\"])\n",
    "\n",
    "        for j in [1,2]:\n",
    "            c = dis_df.loc[i, f\"c_A{j}\"]\n",
    "            tv = dis_df.loc[i, f\"tv_A{j}\"]\n",
    "            tarjeta_dict[f\"A{j}\"] = [int(c), int(tv)]\n",
    "\n",
    "        data[f\"T{i}\"] = tarjeta_dict\n",
    "    \n",
    "    with open(f\"disenho_{nro_disenho}.json\", 'w') as json_file:\n",
    "        json.dump(data, json_file, indent=4, ensure_ascii=False)\n",
    "\n"
   ]
  },
  {
   "cell_type": "code",
   "execution_count": 9,
   "id": "c6c5622b",
   "metadata": {},
   "outputs": [],
   "source": [
    "generar_json(1, dis1_df)\n",
    "generar_json(2, dis2_df)\n",
    "generar_json(3, dis3_df)"
   ]
  }
 ],
 "metadata": {
  "kernelspec": {
   "display_name": "faqs-env",
   "language": "python",
   "name": "python3"
  },
  "language_info": {
   "codemirror_mode": {
    "name": "ipython",
    "version": 3
   },
   "file_extension": ".py",
   "mimetype": "text/x-python",
   "name": "python",
   "nbconvert_exporter": "python",
   "pygments_lexer": "ipython3",
   "version": "3.12.6"
  }
 },
 "nbformat": 4,
 "nbformat_minor": 5
}
